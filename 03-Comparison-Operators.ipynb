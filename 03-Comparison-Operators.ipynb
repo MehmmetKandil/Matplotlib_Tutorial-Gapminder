{
 "cells": [
  {
   "cell_type": "code",
   "execution_count": 1,
   "id": "9dc25fcb",
   "metadata": {},
   "outputs": [],
   "source": [
    "# As long as the types of the two objects are the same, these two objects can be compared.\n",
    "# Typically Python can not tell how two objects with different types relate\n",
    "# different numeric types such as floats and integers are exceptions\n",
    "# Comparison operators\n",
    "# {<, >, >=, <=, ==, !=}"
   ]
  },
  {
   "cell_type": "code",
   "execution_count": 2,
   "id": "b6047b86",
   "metadata": {},
   "outputs": [
    {
     "data": {
      "text/plain": [
       "True"
      ]
     },
     "execution_count": 2,
     "metadata": {},
     "output_type": "execute_result"
    }
   ],
   "source": [
    "# Comparison of integers\n",
    "2 < 3"
   ]
  },
  {
   "cell_type": "code",
   "execution_count": 3,
   "id": "a88b20d6",
   "metadata": {},
   "outputs": [
    {
     "data": {
      "text/plain": [
       "False"
      ]
     },
     "execution_count": 3,
     "metadata": {},
     "output_type": "execute_result"
    }
   ],
   "source": [
    "2 == 3"
   ]
  },
  {
   "cell_type": "code",
   "execution_count": 4,
   "id": "806f41eb",
   "metadata": {},
   "outputs": [
    {
     "data": {
      "text/plain": [
       "True"
      ]
     },
     "execution_count": 4,
     "metadata": {},
     "output_type": "execute_result"
    }
   ],
   "source": [
    "-5*15 != 75"
   ]
  },
  {
   "cell_type": "code",
   "execution_count": 5,
   "id": "b0afc596",
   "metadata": {},
   "outputs": [
    {
     "data": {
      "text/plain": [
       "True"
      ]
     },
     "execution_count": 5,
     "metadata": {},
     "output_type": "execute_result"
    }
   ],
   "source": [
    "3 <= 3"
   ]
  },
  {
   "cell_type": "code",
   "execution_count": 6,
   "id": "2cdc4ad7",
   "metadata": {},
   "outputs": [
    {
     "data": {
      "text/plain": [
       "True"
      ]
     },
     "execution_count": 6,
     "metadata": {},
     "output_type": "execute_result"
    }
   ],
   "source": [
    "2 == (1 + 1)"
   ]
  },
  {
   "cell_type": "code",
   "execution_count": 7,
   "id": "2bfe8581",
   "metadata": {},
   "outputs": [
    {
     "data": {
      "text/plain": [
       "True"
      ]
     },
     "execution_count": 7,
     "metadata": {},
     "output_type": "execute_result"
    }
   ],
   "source": [
    "x = 2\n",
    "y = 3\n",
    "x < y"
   ]
  },
  {
   "cell_type": "code",
   "execution_count": 8,
   "id": "def54b4d",
   "metadata": {},
   "outputs": [
    {
     "data": {
      "text/plain": [
       "True"
      ]
     },
     "execution_count": 8,
     "metadata": {},
     "output_type": "execute_result"
    }
   ],
   "source": [
    "# Comparison of two numbers (objects) with two different types\n",
    "2.5 <= 3"
   ]
  },
  {
   "cell_type": "code",
   "execution_count": 9,
   "id": "16dd4b3b",
   "metadata": {},
   "outputs": [
    {
     "data": {
      "text/plain": [
       "True"
      ]
     },
     "execution_count": 9,
     "metadata": {},
     "output_type": "execute_result"
    }
   ],
   "source": [
    "# Comparison of stringsn\n",
    "\"intermediate\" != \"python\""
   ]
  },
  {
   "cell_type": "code",
   "execution_count": 10,
   "id": "be2b502b",
   "metadata": {},
   "outputs": [
    {
     "data": {
      "text/plain": [
       "False"
      ]
     },
     "execution_count": 10,
     "metadata": {},
     "output_type": "execute_result"
    }
   ],
   "source": [
    "\"Python\" == \"python\""
   ]
  },
  {
   "cell_type": "code",
   "execution_count": 11,
   "id": "f6f45762",
   "metadata": {},
   "outputs": [
    {
     "data": {
      "text/plain": [
       "True"
      ]
     },
     "execution_count": 11,
     "metadata": {},
     "output_type": "execute_result"
    }
   ],
   "source": [
    "# alpha comes alphabetically before beta\n",
    "\"alpha\" <= \"beta\""
   ]
  },
  {
   "cell_type": "code",
   "execution_count": 12,
   "id": "6e16f11d",
   "metadata": {},
   "outputs": [
    {
     "data": {
      "text/plain": [
       "True"
      ]
     },
     "execution_count": 12,
     "metadata": {},
     "output_type": "execute_result"
    }
   ],
   "source": [
    "# Comparison of booleans\n",
    "True != False"
   ]
  },
  {
   "cell_type": "code",
   "execution_count": 13,
   "id": "93920f47",
   "metadata": {},
   "outputs": [
    {
     "data": {
      "text/plain": [
       "True"
      ]
     },
     "execution_count": 13,
     "metadata": {},
     "output_type": "execute_result"
    }
   ],
   "source": [
    "# Note: a boolean is a special kind of integer: \n",
    "# True corresponds to 1\n",
    "# False corresponds to 0\n",
    "True == 1"
   ]
  },
  {
   "cell_type": "code",
   "execution_count": 14,
   "id": "d0766a00",
   "metadata": {},
   "outputs": [
    {
     "data": {
      "text/plain": [
       "True"
      ]
     },
     "execution_count": 14,
     "metadata": {},
     "output_type": "execute_result"
    }
   ],
   "source": [
    "False == 0"
   ]
  },
  {
   "cell_type": "code",
   "execution_count": 15,
   "id": "7d8c95fb",
   "metadata": {
    "scrolled": true
   },
   "outputs": [
    {
     "data": {
      "text/plain": [
       "True"
      ]
     },
     "execution_count": 15,
     "metadata": {},
     "output_type": "execute_result"
    }
   ],
   "source": [
    "True > False"
   ]
  },
  {
   "cell_type": "code",
   "execution_count": 16,
   "id": "8df41100",
   "metadata": {},
   "outputs": [],
   "source": [
    "# import NumPy package\n",
    "import numpy as np"
   ]
  },
  {
   "cell_type": "code",
   "execution_count": 17,
   "id": "f6603537",
   "metadata": {},
   "outputs": [],
   "source": [
    "# Compare arrays (NumPy Arrays)\n",
    "my_house = np.array([18.0, 20.0, 10.75, 9.50])\n",
    "your_house = np.array([14.0, 24.0, 14.25, 9.0])"
   ]
  },
  {
   "cell_type": "code",
   "execution_count": 18,
   "id": "821c1fe2",
   "metadata": {},
   "outputs": [
    {
     "data": {
      "text/plain": [
       "array([ True,  True, False, False])"
      ]
     },
     "execution_count": 18,
     "metadata": {},
     "output_type": "execute_result"
    }
   ],
   "source": [
    "my_house >= 18"
   ]
  },
  {
   "cell_type": "code",
   "execution_count": 19,
   "id": "468b030b",
   "metadata": {},
   "outputs": [
    {
     "data": {
      "text/plain": [
       "array([False,  True,  True, False])"
      ]
     },
     "execution_count": 19,
     "metadata": {},
     "output_type": "execute_result"
    }
   ],
   "source": [
    "# compare two NumPy arrays element-wise\n",
    "my_house <= your_house"
   ]
  },
  {
   "cell_type": "code",
   "execution_count": 20,
   "id": "21f439a9",
   "metadata": {},
   "outputs": [],
   "source": [
    "# Boolean operators such as {and, or and not}\n",
    "# Define variables\n",
    "my_kitchen = 18.0\n",
    "your_kitchen = 14.0"
   ]
  },
  {
   "cell_type": "code",
   "execution_count": 21,
   "id": "124745a4",
   "metadata": {},
   "outputs": [
    {
     "data": {
      "text/plain": [
       "False"
      ]
     },
     "execution_count": 21,
     "metadata": {},
     "output_type": "execute_result"
    }
   ],
   "source": [
    "my_kitchen > 10 and my_kitchen < 18"
   ]
  },
  {
   "cell_type": "code",
   "execution_count": 22,
   "id": "b486d3eb",
   "metadata": {},
   "outputs": [
    {
     "data": {
      "text/plain": [
       "True"
      ]
     },
     "execution_count": 22,
     "metadata": {},
     "output_type": "execute_result"
    }
   ],
   "source": [
    "my_kitchen < 14 or my_kitchen > 17"
   ]
  },
  {
   "cell_type": "code",
   "execution_count": 23,
   "id": "d8121544",
   "metadata": {},
   "outputs": [
    {
     "data": {
      "text/plain": [
       "True"
      ]
     },
     "execution_count": 23,
     "metadata": {},
     "output_type": "execute_result"
    }
   ],
   "source": [
    "2 * my_kitchen < 3 * your_kitchen"
   ]
  },
  {
   "cell_type": "code",
   "execution_count": 24,
   "id": "3ee7be28",
   "metadata": {},
   "outputs": [
    {
     "data": {
      "text/plain": [
       "False"
      ]
     },
     "execution_count": 24,
     "metadata": {},
     "output_type": "execute_result"
    }
   ],
   "source": [
    "not True"
   ]
  },
  {
   "cell_type": "code",
   "execution_count": 25,
   "id": "b32e078b",
   "metadata": {},
   "outputs": [
    {
     "data": {
      "text/plain": [
       "True"
      ]
     },
     "execution_count": 25,
     "metadata": {},
     "output_type": "execute_result"
    }
   ],
   "source": [
    "not False"
   ]
  },
  {
   "cell_type": "code",
   "execution_count": 26,
   "id": "6deea19f",
   "metadata": {},
   "outputs": [
    {
     "data": {
      "text/plain": [
       "False"
      ]
     },
     "execution_count": 26,
     "metadata": {},
     "output_type": "execute_result"
    }
   ],
   "source": [
    "# Define variables\n",
    "x = 8\n",
    "y = 9\n",
    "not(not(x < 3) and not(y > 14 or y > 10))"
   ]
  },
  {
   "cell_type": "code",
   "execution_count": 27,
   "id": "4e017205",
   "metadata": {},
   "outputs": [],
   "source": [
    "# Boolean operators with NumPy\n",
    "# np.logical_and()\n",
    "# np.logical_or()\n",
    "# np.logical_not()\n",
    "# Create arrays\n",
    "my_house = np.array([18.0, 20.0, 10.75, 9.50])\n",
    "your_house = np.array([14.0, 24.0, 14.25, 9.0])"
   ]
  },
  {
   "cell_type": "code",
   "execution_count": 28,
   "id": "2a29bbb2",
   "metadata": {},
   "outputs": [
    {
     "data": {
      "text/plain": [
       "array([18.  , 20.  , 10.75,  9.5 ])"
      ]
     },
     "execution_count": 28,
     "metadata": {},
     "output_type": "execute_result"
    }
   ],
   "source": [
    "my_house"
   ]
  },
  {
   "cell_type": "code",
   "execution_count": 29,
   "id": "e763507f",
   "metadata": {},
   "outputs": [
    {
     "data": {
      "text/plain": [
       "array([14.  , 24.  , 14.25,  9.  ])"
      ]
     },
     "execution_count": 29,
     "metadata": {},
     "output_type": "execute_result"
    }
   ],
   "source": [
    "your_house"
   ]
  },
  {
   "cell_type": "code",
   "execution_count": 30,
   "id": "18bc719e",
   "metadata": {},
   "outputs": [
    {
     "data": {
      "text/plain": [
       "array([False,  True, False,  True])"
      ]
     },
     "execution_count": 30,
     "metadata": {},
     "output_type": "execute_result"
    }
   ],
   "source": [
    "np.logical_or(my_house > 18.5, my_house <10)"
   ]
  },
  {
   "cell_type": "code",
   "execution_count": 31,
   "id": "1d0fe311",
   "metadata": {},
   "outputs": [
    {
     "data": {
      "text/plain": [
       "array([20. ,  9.5])"
      ]
     },
     "execution_count": 31,
     "metadata": {},
     "output_type": "execute_result"
    }
   ],
   "source": [
    "my_house[np.logical_or(my_house > 18.5, my_house <10)]"
   ]
  },
  {
   "cell_type": "code",
   "execution_count": 32,
   "id": "155441ca",
   "metadata": {},
   "outputs": [
    {
     "data": {
      "text/plain": [
       "array([False, False, False,  True])"
      ]
     },
     "execution_count": 32,
     "metadata": {},
     "output_type": "execute_result"
    }
   ],
   "source": [
    "np.logical_and(my_house < 11,  your_house <11)"
   ]
  },
  {
   "cell_type": "code",
   "execution_count": 33,
   "id": "a3e6f3b9",
   "metadata": {},
   "outputs": [],
   "source": [
    "# Conditional statements\n",
    "# if, else, elif"
   ]
  },
  {
   "cell_type": "code",
   "execution_count": 34,
   "id": "47e7b8b3",
   "metadata": {},
   "outputs": [],
   "source": [
    "# if statement\n",
    "\n",
    "# if condition:\n",
    "#         expression"
   ]
  },
  {
   "cell_type": "code",
   "execution_count": 35,
   "id": "7cc09d75",
   "metadata": {},
   "outputs": [
    {
     "name": "stdout",
     "output_type": "stream",
     "text": [
      "checking 4\n",
      "z is even\n"
     ]
    }
   ],
   "source": [
    "z = 4\n",
    "\n",
    "if z % 2 ==0:   # True\n",
    "    print(\"checking \" + str(z))\n",
    "    print(\"z is even\")"
   ]
  },
  {
   "cell_type": "code",
   "execution_count": 36,
   "id": "99374358",
   "metadata": {},
   "outputs": [],
   "source": [
    "# if .. else statement\n",
    "\n",
    "# if condition:\n",
    "#         expression\n",
    "# else:\n",
    "#         expression"
   ]
  },
  {
   "cell_type": "code",
   "execution_count": 37,
   "id": "ed6a790d",
   "metadata": {},
   "outputs": [
    {
     "name": "stdout",
     "output_type": "stream",
     "text": [
      "z is odd\n"
     ]
    }
   ],
   "source": [
    "z = 5\n",
    "\n",
    "if z % 2 ==0:   # False\n",
    "    print(\"z is even\")\n",
    "else:           # True\n",
    "    print(\"z is odd\")"
   ]
  },
  {
   "cell_type": "code",
   "execution_count": 38,
   "id": "2f2692ed",
   "metadata": {},
   "outputs": [],
   "source": [
    "# elif statement\n",
    "\n",
    "# if condition:\n",
    "#         expression\n",
    "# elif condition:\n",
    "#         expression\n",
    "# else:\n",
    "#         expression"
   ]
  },
  {
   "cell_type": "code",
   "execution_count": 39,
   "id": "672d7d4d",
   "metadata": {},
   "outputs": [
    {
     "name": "stdout",
     "output_type": "stream",
     "text": [
      "z is divisible by 3\n"
     ]
    }
   ],
   "source": [
    "# Define variable\n",
    "z = 3\n",
    "\n",
    "if z % 2 ==0:   \n",
    "    print(\"z is divisible by 2\")  # False\n",
    "elif z % 3 ==0: \n",
    "    print(\"z is divisible by 3\")  # True\n",
    "else:\n",
    "    print(\"z is neither divisible by 2 nor by 3\")"
   ]
  },
  {
   "cell_type": "code",
   "execution_count": 40,
   "id": "e03b7ee7",
   "metadata": {},
   "outputs": [
    {
     "name": "stdout",
     "output_type": "stream",
     "text": [
      "z is divisible by 2\n"
     ]
    }
   ],
   "source": [
    "# Define variable\n",
    "z = 6\n",
    "\n",
    "if z % 2 ==0:   \n",
    "    print(\"z is divisible by 2\")  # True\n",
    "elif z % 3 ==0: \n",
    "    print(\"z is divisible by 3\")  # Never reached\n",
    "else:\n",
    "    print(\"z is neither divisible by 2 nor by 3\")"
   ]
  },
  {
   "cell_type": "code",
   "execution_count": 41,
   "id": "03496971",
   "metadata": {},
   "outputs": [
    {
     "name": "stdout",
     "output_type": "stream",
     "text": [
      "medium\n"
     ]
    }
   ],
   "source": [
    "# Define variable\n",
    "area = 10.0\n",
    "\n",
    "if(area < 9) :\n",
    "    print(\"small\")  # False\n",
    "elif(area < 12) :\n",
    "    print(\"medium\") # True\n",
    "else :\n",
    "    print(\"large\")  # Never reached"
   ]
  },
  {
   "cell_type": "code",
   "execution_count": 42,
   "id": "cb2786a4",
   "metadata": {},
   "outputs": [
    {
     "name": "stdout",
     "output_type": "stream",
     "text": [
      "looking around in the bedroom.\n",
      "medium size, nice!\n"
     ]
    }
   ],
   "source": [
    "# Define variables\n",
    "room = \"bed\"\n",
    "area = 14.0\n",
    "\n",
    "# if-elif-else construct for room\n",
    "if room == \"kit\" :\n",
    "    print(\"looking around in the kitchen.\")  # False\n",
    "elif room == \"bed\":\n",
    "    print(\"looking around in the bedroom.\")  # True\n",
    "else :\n",
    "    print(\"looking around elsewhere.\")       # Never reached\n",
    "\n",
    "# if-elif-else construct for area\n",
    "if area > 15 :\n",
    "    print(\"big place!\")  # False\n",
    "elif area >10:\n",
    "    print('medium size, nice!')  # True  \n",
    "else :\n",
    "    print(\"pretty small.\")  # Never reached"
   ]
  },
  {
   "cell_type": "code",
   "execution_count": null,
   "id": "eb946d7c",
   "metadata": {},
   "outputs": [],
   "source": []
  }
 ],
 "metadata": {
  "kernelspec": {
   "display_name": "Python 3 (ipykernel)",
   "language": "python",
   "name": "python3"
  },
  "language_info": {
   "codemirror_mode": {
    "name": "ipython",
    "version": 3
   },
   "file_extension": ".py",
   "mimetype": "text/x-python",
   "name": "python",
   "nbconvert_exporter": "python",
   "pygments_lexer": "ipython3",
   "version": "3.7.2"
  }
 },
 "nbformat": 4,
 "nbformat_minor": 5
}
